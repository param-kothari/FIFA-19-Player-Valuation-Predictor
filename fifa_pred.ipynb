{
 "cells": [
  {
   "cell_type": "code",
   "execution_count": 1,
   "metadata": {},
   "outputs": [
    {
     "name": "stdout",
     "output_type": "stream",
     "text": [
      "Libraries imported!\n"
     ]
    }
   ],
   "source": [
    "import pandas as pd\n",
    "import matplotlib.pyplot as plt\n",
    "import seaborn as  sns\n",
    "import numpy as np\n",
    "import sklearn\n",
    "from sklearn.linear_model import LinearRegression\n",
    "from sklearn.preprocessing import PolynomialFeatures\n",
    "from sklearn.pipeline import make_pipeline\n",
    "from sklearn.metrics import mean_squared_error, r2_score\n",
    "\n",
    "print(\"Libraries imported!\")"
   ]
  },
  {
   "cell_type": "code",
   "execution_count": 2,
   "metadata": {},
   "outputs": [],
   "source": [
    "# ml_data = ml_data[ml_data[\"Value\"].map(len) > 2]\n",
    "# df[df['column name'].map(len) < 2]\n",
    "# ml_data.head"
   ]
  },
  {
   "cell_type": "code",
   "execution_count": 3,
   "metadata": {},
   "outputs": [
    {
     "name": "stderr",
     "output_type": "stream",
     "text": [
      "<ipython-input-3-d71ec76f3ab3>:20: SettingWithCopyWarning: \n",
      "A value is trying to be set on a copy of a slice from a DataFrame\n",
      "\n",
      "See the caveats in the documentation: https://pandas.pydata.org/pandas-docs/stable/user_guide/indexing.html#returning-a-view-versus-a-copy\n",
      "  ml_data[\"Value\"][idx] = item\n"
     ]
    },
    {
     "name": "stdout",
     "output_type": "stream",
     "text": [
      "<bound method NDFrame.head of        Age  Overall  Potential  Value  Crossing  Finishing  HeadingAccuracy  \\\n",
      "0       31       94         94  110.5      84.0       95.0             70.0   \n",
      "1       33       94         94     77      84.0       94.0             89.0   \n",
      "2       26       92         93  118.5      79.0       87.0             62.0   \n",
      "3       27       91         93     72      17.0       13.0             21.0   \n",
      "4       27       91         92    102      93.0       82.0             55.0   \n",
      "...    ...      ...        ...    ...       ...        ...              ...   \n",
      "18202   19       47         65   0.06      34.0       38.0             40.0   \n",
      "18203   19       47         63   0.06      23.0       52.0             52.0   \n",
      "18204   16       47         67   0.06      25.0       40.0             46.0   \n",
      "18205   17       47         66   0.06      44.0       50.0             39.0   \n",
      "18206   16       46         66   0.06      41.0       34.0             46.0   \n",
      "\n",
      "       ShortPassing  Volleys  Dribbling  ...  Penalties  Composure  Marking  \\\n",
      "0              90.0     86.0       97.0  ...       75.0       96.0     33.0   \n",
      "1              81.0     87.0       88.0  ...       85.0       95.0     28.0   \n",
      "2              84.0     84.0       96.0  ...       81.0       94.0     27.0   \n",
      "3              50.0     13.0       18.0  ...       40.0       68.0     15.0   \n",
      "4              92.0     82.0       86.0  ...       79.0       88.0     68.0   \n",
      "...             ...      ...        ...  ...        ...        ...      ...   \n",
      "18202          49.0     25.0       42.0  ...       43.0       45.0     40.0   \n",
      "18203          43.0     36.0       39.0  ...       43.0       42.0     22.0   \n",
      "18204          38.0     38.0       45.0  ...       55.0       41.0     32.0   \n",
      "18205          42.0     40.0       51.0  ...       50.0       46.0     20.0   \n",
      "18206          48.0     30.0       43.0  ...       33.0       43.0     40.0   \n",
      "\n",
      "       StandingTackle  SlidingTackle  GKDiving  GKHandling  GKKicking  \\\n",
      "0                28.0           26.0       6.0        11.0       15.0   \n",
      "1                31.0           23.0       7.0        11.0       15.0   \n",
      "2                24.0           33.0       9.0         9.0       15.0   \n",
      "3                21.0           13.0      90.0        85.0       87.0   \n",
      "4                58.0           51.0      15.0        13.0        5.0   \n",
      "...               ...            ...       ...         ...        ...   \n",
      "18202            48.0           47.0      10.0        13.0        7.0   \n",
      "18203            15.0           19.0      10.0         9.0        9.0   \n",
      "18204            13.0           11.0       6.0         5.0       10.0   \n",
      "18205            25.0           27.0      14.0         6.0       14.0   \n",
      "18206            43.0           50.0      10.0        15.0        9.0   \n",
      "\n",
      "       GKPositioning  GKReflexes  \n",
      "0               14.0         8.0  \n",
      "1               14.0        11.0  \n",
      "2               15.0        11.0  \n",
      "3               88.0        94.0  \n",
      "4               10.0        13.0  \n",
      "...              ...         ...  \n",
      "18202            8.0         9.0  \n",
      "18203            5.0        12.0  \n",
      "18204            6.0        13.0  \n",
      "18205            8.0         9.0  \n",
      "18206           12.0         9.0  \n",
      "\n",
      "[18207 rows x 38 columns]>\n"
     ]
    }
   ],
   "source": [
    "ml_data = pd.read_csv(\"fifa19_data.csv\")\n",
    "string_col = []\n",
    "for i in range(54):\n",
    "    if(i not in [3, 7, 8, 11]):\n",
    "        string_col.append(i)\n",
    "string_col.append(88)\n",
    "clmns = list(ml_data)\n",
    "for idx in string_col:\n",
    "    ml_data = ml_data.drop(columns=clmns[idx])\n",
    "ml_data.fillna(0, inplace=True)\n",
    "ml_data.replace('NaN', 0)\n",
    "for idx, item in enumerate(ml_data[\"Value\"]):\n",
    "    item = item[1:]\n",
    "    if (item[-1] == '0'):\n",
    "        item = 0\n",
    "    elif (item[-1] == 'K'):\n",
    "        item = float(item[:-1]) / 1000.0\n",
    "    else:\n",
    "        item = float(item[:-1])\n",
    "    ml_data[\"Value\"][idx] = item\n",
    "print(ml_data.head)        "
   ]
  },
  {
   "cell_type": "code",
   "execution_count": 4,
   "metadata": {
    "scrolled": true
   },
   "outputs": [],
   "source": [
    "X = ml_data\n",
    "X = X.drop([\"Value\"], axis = 1)\n",
    "y = ml_data[[\"Value\"]]"
   ]
  },
  {
   "cell_type": "code",
   "execution_count": 5,
   "metadata": {},
   "outputs": [
    {
     "data": {
      "text/plain": [
       "LinearRegression()"
      ]
     },
     "execution_count": 5,
     "metadata": {},
     "output_type": "execute_result"
    }
   ],
   "source": [
    "clf = LinearRegression()\n",
    "clf.fit(X, y)"
   ]
  },
  {
   "cell_type": "code",
   "execution_count": 6,
   "metadata": {},
   "outputs": [],
   "source": [
    "y_pred = clf.predict(X)"
   ]
  },
  {
   "cell_type": "code",
   "execution_count": 7,
   "metadata": {
    "scrolled": false
   },
   "outputs": [
    {
     "name": "stdout",
     "output_type": "stream",
     "text": [
      "16.745459764666915\n",
      "0.4650278168365106\n"
     ]
    }
   ],
   "source": [
    "print(mean_squared_error(y, y_pred))\n",
    "print(r2_score(y, y_pred))"
   ]
  },
  {
   "cell_type": "code",
   "execution_count": 8,
   "metadata": {
    "scrolled": true
   },
   "outputs": [
    {
     "data": {
      "text/plain": [
       "<matplotlib.legend.Legend at 0x1befdc1f6a0>"
      ]
     },
     "execution_count": 8,
     "metadata": {},
     "output_type": "execute_result"
    },
    {
     "data": {
      "image/png": "[encoded data removed]",
      "text/plain": [
       "<Figure size 432x288 with 1 Axes>"
      ]
     },
     "metadata": {
      "needs_background": "light"
     },
     "output_type": "display_data"
    }
   ],
   "source": [
    "x_ax = [i for i in range(201)]\n",
    "y_ax = [0] * 201\n",
    "y_pred_ax = [0] * 201\n",
    "for val in y[\"Value\"]:\n",
    "    y_ax[int(val)] += 1\n",
    "for val in y_pred:\n",
    "    y_pred_ax[int(val)] += 1\n",
    "plt.plot(x_ax[:50], y_ax[:50])\n",
    "plt.plot(x_ax[:50], y_pred_ax[:50])\n",
    "plt.title(\"Number of Players vs. Value\")\n",
    "plt.xlabel(\"Value\")\n",
    "plt.ylabel(\"Number of Players\")\n",
    "plt.legend([\"Initial Data\", \"Predicted Data\"])"
   ]
  },
  {
   "cell_type": "code",
   "execution_count": 9,
   "metadata": {},
   "outputs": [
    {
     "data": {
      "text/plain": [
       "Text(0, 0.5, 'Overall Rating')"
      ]
     },
     "execution_count": 9,
     "metadata": {},
     "output_type": "execute_result"
    },
    {
     "data": {
      "image/png": "[encoded data removed]",
      "text/plain": [
       "<Figure size 432x288 with 1 Axes>"
      ]
     },
     "metadata": {
      "needs_background": "light"
     },
     "output_type": "display_data"
    }
   ],
   "source": [
    "plt.plot(y)\n",
    "plt.title(\"Distribution of Overall Rating\")\n",
    "plt.xlabel(\"Players\")\n",
    "plt.ylabel(\"Overall Rating\")"
   ]
  },
  {
   "cell_type": "code",
   "execution_count": 10,
   "metadata": {},
   "outputs": [],
   "source": [
    "pol = PolynomialFeatures(degree = 2)\n",
    "X_poly = pol.fit_transform(X)"
   ]
  },
  {
   "cell_type": "code",
   "execution_count": 11,
   "metadata": {},
   "outputs": [],
   "source": [
    "clf_po = LinearRegression()\n",
    "clf.fit(X_poly, y)\n",
    "y_pred = clf.predict(X_poly)"
   ]
  },
  {
   "cell_type": "code",
   "execution_count": 12,
   "metadata": {},
   "outputs": [
    {
     "name": "stdout",
     "output_type": "stream",
     "text": [
      "4.345133629208007\n",
      "0.861184723714826\n"
     ]
    }
   ],
   "source": [
    "print(mean_squared_error(y, y_pred))\n",
    "print(r2_score(y, y_pred))\n"
   ]
  },
  {
   "cell_type": "code",
   "execution_count": 13,
   "metadata": {
    "scrolled": true
   },
   "outputs": [
    {
     "data": {
      "text/plain": [
       "<matplotlib.legend.Legend at 0x1befdaf99d0>"
      ]
     },
     "execution_count": 13,
     "metadata": {},
     "output_type": "execute_result"
    },
    {
     "data": {
      "image/png": "[encoded data removed]",
      "text/plain": [
       "<Figure size 432x288 with 1 Axes>"
      ]
     },
     "metadata": {
      "needs_background": "light"
     },
     "output_type": "display_data"
    }
   ],
   "source": [
    "x_ax = [i for i in range(201)]\n",
    "y_ax = [0] * 201\n",
    "y_pred_ax = [0] * 201\n",
    "for val in y[\"Value\"]:\n",
    "    y_ax[int(val)] += 1\n",
    "for val in y_pred:\n",
    "    y_pred_ax[int(val)] += 1\n",
    "plt.plot(x_ax[:50], y_ax[:50])\n",
    "plt.plot(x_ax[:50], y_pred_ax[:50])\n",
    "plt.title(\"Number of Players vs. Value\")\n",
    "plt.xlabel(\"Value\")\n",
    "plt.ylabel(\"Number of Players\")\n",
    "plt.legend([\"Initial Data\", \"Predicted Data\"])"
   ]
  }
 ],
 "metadata": {
  "kernelspec": {
   "display_name": "Python 3",
   "language": "python",
   "name": "python3"
  },
  "language_info": {
   "codemirror_mode": {
    "name": "ipython",
    "version": 3
   },
   "file_extension": ".py",
   "mimetype": "text/x-python",
   "name": "python",
   "nbconvert_exporter": "python",
   "pygments_lexer": "ipython3",
   "version": "3.8.0"
  }
 },
 "nbformat": 4,
 "nbformat_minor": 4
}
